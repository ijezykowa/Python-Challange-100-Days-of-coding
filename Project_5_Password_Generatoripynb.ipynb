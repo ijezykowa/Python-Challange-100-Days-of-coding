{
  "nbformat": 4,
  "nbformat_minor": 0,
  "metadata": {
    "colab": {
      "provenance": [],
      "authorship_tag": "ABX9TyONyHcn87ij3v2V5e1vjYcy",
      "include_colab_link": true
    },
    "kernelspec": {
      "name": "python3",
      "display_name": "Python 3"
    },
    "language_info": {
      "name": "python"
    }
  },
  "cells": [
    {
      "cell_type": "markdown",
      "metadata": {
        "id": "view-in-github",
        "colab_type": "text"
      },
      "source": [
        "<a href=\"https://colab.research.google.com/github/ijezykowa/Python-Challange-100-Days-of-coding/blob/main/Project_5_Password_Generatoripynb.ipynb\" target=\"_parent\"><img src=\"https://colab.research.google.com/assets/colab-badge.svg\" alt=\"Open In Colab\"/></a>"
      ]
    },
    {
      "cell_type": "markdown",
      "source": [
        "#Password Generator - simple project using loops, if statemes and randomization in order to generate passwords"
      ],
      "metadata": {
        "id": "R9pbGHBw2vpd"
      }
    },
    {
      "cell_type": "markdown",
      "source": [
        "##1.Introduction:"
      ],
      "metadata": {
        "id": "rTAE6LEa3fM2"
      }
    },
    {
      "cell_type": "code",
      "execution_count": null,
      "metadata": {
        "colab": {
          "base_uri": "https://localhost:8080/"
        },
        "id": "F4KXfWtT2uqf",
        "outputId": "a50d088e-c400-4b2b-b70a-fbb7543efa42"
      },
      "outputs": [
        {
          "name": "stdout",
          "output_type": "stream",
          "text": [
            "Welcome to the PyPassword Generator!\n",
            "How many letters would you like in your password?\n",
            "3\n",
            "How many symbols would you like?\n",
            "4\n",
            "How many numbers would you like?\n",
            "2\n"
          ]
        }
      ],
      "source": [
        "import random\n",
        "#basic lists with characters\n",
        "letters = ['a', 'b', 'c', 'd', 'e', 'f', 'g', 'h', 'i', 'j', 'k', 'l', 'm', 'n', 'o', 'p', 'q', 'r', 's', 't', 'u', 'v', 'w', 'x', 'y', 'z', 'A', 'B', 'C', 'D', 'E', 'F', 'G', 'H', 'I', 'J', 'K', 'L', 'M', 'N', 'O', 'P', 'Q', 'R', 'S', 'T', 'U', 'V', 'W', 'X', 'Y', 'Z']\n",
        "numbers = ['0', '1', '2', '3', '4', '5', '6', '7', '8', '9']\n",
        "symbols = ['!', '#', '$', '%', '&', '(', ')', '*', '+']\n",
        "\n",
        "#input questions to get password characteristic:\n",
        "print(\"Welcome to the PyPassword Generator!\")\n",
        "nr_letters= int(input(\"How many letters would you like in your password?\\n\")) \n",
        "nr_symbols = int(input(f\"How many symbols would you like?\\n\"))\n",
        "nr_numbers = int(input(f\"How many numbers would you like?\\n\"))"
      ]
    },
    {
      "cell_type": "markdown",
      "source": [
        "##2.Version 1: simple random password"
      ],
      "metadata": {
        "id": "cnJgYok-3KS4"
      }
    },
    {
      "cell_type": "code",
      "source": [
        "#Eazy Level - Order not randomised:\n",
        "#e.g. 4 letter, 2 symbol, 2 number = JduE&!91\n",
        "password = ''\n",
        "len_password = nr_letters + nr_symbols + nr_numbers\n",
        "#print(len_password)\n",
        "for letter in letters:\n",
        "  if len(password) < nr_letters:\n",
        "    password += random.choice(letters)\n",
        "for symbol in symbols:\n",
        "  if len(password) < nr_letters +  nr_symbols:\n",
        "    password += random.choice(symbols)\n",
        "for number in numbers:\n",
        "  if len(password) < nr_letters + nr_symbols + nr_numbers:\n",
        "    password += random.choice(numbers)"
      ],
      "metadata": {
        "id": "CRQA_MnU3KgQ"
      },
      "execution_count": null,
      "outputs": []
    },
    {
      "cell_type": "code",
      "source": [
        "print(f'Your random password is: {password}')"
      ],
      "metadata": {
        "colab": {
          "base_uri": "https://localhost:8080/"
        },
        "id": "KLu9CUDz6_4Q",
        "outputId": "d3e12abf-8ebf-4b31-a18d-c31d75556b9e"
      },
      "execution_count": null,
      "outputs": [
        {
          "output_type": "stream",
          "name": "stdout",
          "text": [
            "Your random password is: SIE!&&+65\n"
          ]
        }
      ]
    },
    {
      "cell_type": "markdown",
      "source": [
        "##3.Version 2: shuffled version of the first password"
      ],
      "metadata": {
        "id": "hDdAszTQ4kzM"
      }
    },
    {
      "cell_type": "code",
      "source": [
        "new_password = []\n",
        "for letter in password:\n",
        "    new_password.append(letter)\n",
        "#print(new_password)\n",
        "\n",
        "random_password = random.sample(new_password, len(new_password))\n",
        "#print(random_password)\n",
        "\n",
        "shuffled_password = ''\n",
        "for i in random_password:\n",
        "  if len(shuffled_password) < len(random_password):\n",
        "    shuffled_password += i"
      ],
      "metadata": {
        "id": "jmjpoUKl3Y0U"
      },
      "execution_count": null,
      "outputs": []
    },
    {
      "cell_type": "code",
      "source": [
        "print(f'Your random shuffled password is: {shuffled_password}')"
      ],
      "metadata": {
        "colab": {
          "base_uri": "https://localhost:8080/"
        },
        "id": "G1sD3i8K7CSS",
        "outputId": "385fb86e-ce0c-4aa0-95db-e1def1db0357"
      },
      "execution_count": null,
      "outputs": [
        {
          "output_type": "stream",
          "name": "stdout",
          "text": [
            "Your random shuffled password is: EI&!5&6S+\n"
          ]
        }
      ]
    },
    {
      "cell_type": "markdown",
      "source": [
        "##4.Version 3:  another random shuffled password"
      ],
      "metadata": {
        "id": "5GeSVCzk4eM3"
      }
    },
    {
      "cell_type": "code",
      "source": [
        "#Hard Level - Order of characters randomised:\n",
        "#e.g. 4 letter, 2 symbol, 2 number = g^2jk8&P\n",
        "\n",
        "other_password = ''\n",
        "len_other_password = nr_letters + nr_symbols + nr_numbers\n",
        "#print(len_other_password)\n",
        "for letter in letters:\n",
        "  if len(other_password) < nr_letters:\n",
        "    other_password += random.choice(letters)\n",
        "for symbol in symbols:\n",
        "  if len(other_password) < nr_letters +  nr_symbols:\n",
        "    other_password += random.choice(symbols)\n",
        "for number in numbers:\n",
        "  if len(other_password) < nr_letters + nr_symbols + nr_numbers:\n",
        "    other_password += random.choice(numbers)\n",
        "\n",
        "custom_password = []\n",
        "for letter in other_password:\n",
        "    custom_password.append(letter)\n",
        "#print(new_password)\n",
        "\n",
        "mixed_password = random.sample(custom_password, len(custom_password))\n",
        "\n",
        "generated_password = ''\n",
        "for i in mixed_password:\n",
        "  if len(generated_password) < len(mixed_password):\n",
        "    generated_password += i"
      ],
      "metadata": {
        "id": "HC2wqNe-4dYB"
      },
      "execution_count": null,
      "outputs": []
    },
    {
      "cell_type": "code",
      "source": [
        "print(f'Your generated shuffled password is: {generated_password}')\n"
      ],
      "metadata": {
        "colab": {
          "base_uri": "https://localhost:8080/"
        },
        "id": "og6I_J6D7E10",
        "outputId": "4321aa81-c83a-4d1c-f575-7476fb3529a0"
      },
      "execution_count": null,
      "outputs": [
        {
          "output_type": "stream",
          "name": "stdout",
          "text": [
            "Your generated shuffled password is: 7UQ*7&+*W\n"
          ]
        }
      ]
    }
  ]
}
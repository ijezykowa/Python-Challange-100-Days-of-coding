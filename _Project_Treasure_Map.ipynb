{
  "nbformat": 4,
  "nbformat_minor": 0,
  "metadata": {
    "colab": {
      "provenance": [],
      "authorship_tag": "ABX9TyMIO4rWpbcult65UTkTnA/e",
      "include_colab_link": true
    },
    "kernelspec": {
      "name": "python3",
      "display_name": "Python 3"
    },
    "language_info": {
      "name": "python"
    }
  },
  "cells": [
    {
      "cell_type": "markdown",
      "metadata": {
        "id": "view-in-github",
        "colab_type": "text"
      },
      "source": [
        "<a href=\"https://colab.research.google.com/github/ijezykowa/Python-Challange-100-Days-of-coding/blob/main/_Project_Treasure_Map.ipynb\" target=\"_parent\"><img src=\"https://colab.research.google.com/assets/colab-badge.svg\" alt=\"Open In Colab\"/></a>"
      ]
    },
    {
      "cell_type": "markdown",
      "source": [
        "#Treasure Map - a simple model for marking right place, might be used in Chess, marking the sections of a map or in the Battleship game"
      ],
      "metadata": {
        "id": "RuGvW4cuyDUB"
      }
    },
    {
      "cell_type": "markdown",
      "source": [
        "##1.Introduction(input):"
      ],
      "metadata": {
        "id": "JtHDsKkqyTe5"
      }
    },
    {
      "cell_type": "code",
      "source": [
        "row1 = [\"⬜️\",\"️⬜️\",\"️⬜️\"]\n",
        "row2 = [\"⬜️\",\"⬜️\",\"️⬜️\"]\n",
        "row3 = [\"⬜️️\",\"⬜️️\",\"⬜️️\"]\n",
        "map = [row1, row2, row3]\n",
        "print(f\"{row1}\\n{row2}\\n{row3}\")\n",
        "position = input(\"Where do you want to put the treasure? \")"
      ],
      "metadata": {
        "id": "sMyQX0M9yKO9"
      },
      "execution_count": null,
      "outputs": []
    },
    {
      "cell_type": "markdown",
      "source": [
        "##2.Getting the coordinates:"
      ],
      "metadata": {
        "id": "0b6yO0BoyM8g"
      }
    },
    {
      "cell_type": "code",
      "source": [
        "coordinate_a = position[0] #horizontal\n",
        "coordinate_b = position[1] #vertical"
      ],
      "metadata": {
        "id": "tuBH5IyGySrN"
      },
      "execution_count": null,
      "outputs": []
    },
    {
      "cell_type": "markdown",
      "source": [
        "##3.If function in order to mark the right spot:"
      ],
      "metadata": {
        "id": "apbTDtzgyW45"
      }
    },
    {
      "cell_type": "code",
      "source": [
        "if coordinate_b == '1':\n",
        "    if coordinate_a == '1':\n",
        "        row1[0] = 'X'\n",
        "    elif coordinate_a == '2':\n",
        "        row1[1] = 'X'\n",
        "    elif coordinate_a == '3':\n",
        "        row1[2] = 'X'\n",
        "    else:\n",
        "        print('Out of range.')\n",
        "elif coordinate_b == '2':\n",
        "    if coordinate_a == '1':\n",
        "        row2[0] = 'X'\n",
        "    elif coordinate_a == '2':\n",
        "        row2[1] = 'X'\n",
        "    elif coordinate_a == '3':\n",
        "        row2[2] = 'X'\n",
        "    else:\n",
        "        print('Out of range.')\n",
        "elif coordinate_b == '3':\n",
        "    if coordinate_a == '1':\n",
        "        row3[0] = 'X'\n",
        "    elif coordinate_a == '2':\n",
        "        row3[1] = 'X'\n",
        "    elif coordinate_a == '3':\n",
        "        row3[2] = 'X'\n",
        "    else:\n",
        "        print('Out of range.')\n",
        "else:\n",
        "    print('Out of range.')\n",
        "\n",
        "\n",
        "\n",
        "print(f\"{row1}\\n{row2}\\n{row3}\")\n",
        "\n"
      ],
      "metadata": {
        "id": "FOLvj8G5ybTI"
      },
      "execution_count": null,
      "outputs": []
    }
  ]
}
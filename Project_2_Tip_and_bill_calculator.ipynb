{
  "nbformat": 4,
  "nbformat_minor": 0,
  "metadata": {
    "colab": {
      "provenance": [],
      "authorship_tag": "ABX9TyOcn5lSOIkaRDgJJ1gnXnR5",
      "include_colab_link": true
    },
    "kernelspec": {
      "name": "python3",
      "display_name": "Python 3"
    },
    "language_info": {
      "name": "python"
    }
  },
  "cells": [
    {
      "cell_type": "markdown",
      "metadata": {
        "id": "view-in-github",
        "colab_type": "text"
      },
      "source": [
        "<a href=\"https://colab.research.google.com/github/ijezykowa/Python-Challange-100-Days-of-coding/blob/main/Project_2_Tip_and_bill_calculator.ipynb\" target=\"_parent\"><img src=\"https://colab.research.google.com/assets/colab-badge.svg\" alt=\"Open In Colab\"/></a>"
      ]
    },
    {
      "cell_type": "markdown",
      "source": [
        "#Bill and tip calculator: a simple project using basic mathematical functions to create a calculator"
      ],
      "metadata": {
        "id": "f2wk1hiPpFa5"
      }
    },
    {
      "cell_type": "markdown",
      "source": [
        "#1.Greeting (print function):"
      ],
      "metadata": {
        "id": "5IVI5Xckpj3E"
      }
    },
    {
      "cell_type": "code",
      "execution_count": 1,
      "metadata": {
        "colab": {
          "base_uri": "https://localhost:8080/"
        },
        "id": "ESBDynF1o0j8",
        "outputId": "ab248bfd-9d5a-45a5-d4e8-e27d15c2f5e1"
      },
      "outputs": [
        {
          "output_type": "stream",
          "name": "stdout",
          "text": [
            "Welcome to the tip calculator!\n"
          ]
        }
      ],
      "source": [
        "print('Welcome to the tip calculator!')"
      ]
    },
    {
      "cell_type": "markdown",
      "source": [
        "#2.Variables (input function): changing variables from one data type to another"
      ],
      "metadata": {
        "id": "fz7M9ounpq9Q"
      }
    },
    {
      "cell_type": "code",
      "source": [
        "#creating variables\n",
        "bill = input(\"What was the total bill?\")\n",
        "tip = input(\"What percentage tip would you like to give? 10, 12 or 15?\")\n",
        "guests = input('How many people to split the bill?')\n",
        "\n",
        "#verification of data type\n",
        "print(type(bill))\n",
        "\n",
        "#changing variables into appropriate data types\n",
        "bill_float = float(bill)\n",
        "tip_float = float(tip)\n",
        "guests_int = int(guests)\n",
        "\n",
        "#verification of data type\n",
        "print(type(bill_float))\n",
        "print(type(guests_int))"
      ],
      "metadata": {
        "colab": {
          "base_uri": "https://localhost:8080/"
        },
        "id": "64Sf0JKCprMk",
        "outputId": "0b181801-1fd2-4b61-a178-14ebce900c88"
      },
      "execution_count": 5,
      "outputs": [
        {
          "output_type": "stream",
          "name": "stdout",
          "text": [
            "What was the total bill?234.12\n",
            "What percentage tip would you like to give? 10, 12 or 15?12\n",
            "How many people to split the bill?4\n",
            "<class 'str'>\n",
            "<class 'float'>\n",
            "<class 'int'>\n"
          ]
        }
      ]
    },
    {
      "cell_type": "markdown",
      "source": [
        "#3.Tip calculation (using mathematical functions):"
      ],
      "metadata": {
        "id": "ci6Pf72VqGEt"
      }
    },
    {
      "cell_type": "code",
      "source": [
        "#creating variable and making appropriate mathematical calculations\n",
        "tip_percentage = (tip_float + 100)/100\n",
        "#verification of data type\n",
        "print(tip_percentage)"
      ],
      "metadata": {
        "colab": {
          "base_uri": "https://localhost:8080/"
        },
        "id": "aixP1n03qGNW",
        "outputId": "a95d2f05-7c64-425b-eb9a-32df3863447b"
      },
      "execution_count": 6,
      "outputs": [
        {
          "output_type": "stream",
          "name": "stdout",
          "text": [
            "1.12\n"
          ]
        }
      ]
    },
    {
      "cell_type": "markdown",
      "source": [
        "#4.Calculating the amount needed to be paid by 1 guest:"
      ],
      "metadata": {
        "id": "XEPgn7l8qjQy"
      }
    },
    {
      "cell_type": "code",
      "source": [
        "#creating variable using previous variables and mathematical functions and rounding the result to 2 digits after floaring point\n",
        "result = round(((bill_float / guests_int) * tip_percentage), 2)\n",
        "#printing the result\n",
        "print(f'Each guest should pay {result}')"
      ],
      "metadata": {
        "colab": {
          "base_uri": "https://localhost:8080/"
        },
        "id": "x7hdBjYgqjaK",
        "outputId": "516c9d49-b397-4cc9-8b95-6f1a7273ba03"
      },
      "execution_count": 7,
      "outputs": [
        {
          "output_type": "stream",
          "name": "stdout",
          "text": [
            "Each guest should pay 65.55\n"
          ]
        }
      ]
    }
  ]
}
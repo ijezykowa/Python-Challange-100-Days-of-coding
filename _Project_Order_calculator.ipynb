{
  "nbformat": 4,
  "nbformat_minor": 0,
  "metadata": {
    "colab": {
      "provenance": [],
      "authorship_tag": "ABX9TyNoPFp/lrwVfeMh1NlD/DY+",
      "include_colab_link": true
    },
    "kernelspec": {
      "name": "python3",
      "display_name": "Python 3"
    },
    "language_info": {
      "name": "python"
    }
  },
  "cells": [
    {
      "cell_type": "markdown",
      "metadata": {
        "id": "view-in-github",
        "colab_type": "text"
      },
      "source": [
        "<a href=\"https://colab.research.google.com/github/ijezykowa/Python-Challange-100-Days-of-coding/blob/main/_Project_Order_calculator.ipynb\" target=\"_parent\"><img src=\"https://colab.research.google.com/assets/colab-badge.svg\" alt=\"Open In Colab\"/></a>"
      ]
    },
    {
      "cell_type": "markdown",
      "source": [
        "#Order calculator: a project using if statements in order to summarize the bill for a pizza order"
      ],
      "metadata": {
        "id": "CTaqk48Uu4TL"
      }
    },
    {
      "cell_type": "markdown",
      "source": [
        "##1. Introduction (input):"
      ],
      "metadata": {
        "id": "iqir55sxvQyu"
      }
    },
    {
      "cell_type": "code",
      "execution_count": null,
      "metadata": {
        "id": "XWfYgtwNuwGV"
      },
      "outputs": [],
      "source": [
        "#input used to get details regarding the pizza order\n",
        "print(\"Welcome to Python Pizza Deliveries!\")\n",
        "size = input(\"What size pizza do you want? S, M, or L \")\n",
        "add_pepperoni = input(\"Do you want pepperoni? Y or N \")\n",
        "extra_cheese = input(\"Do you want extra cheese? Y or N \")"
      ]
    },
    {
      "cell_type": "markdown",
      "source": [
        "##2.If statements:"
      ],
      "metadata": {
        "id": "IJAJ_5IFvg2t"
      }
    },
    {
      "cell_type": "code",
      "source": [
        "#if statements used to verify type of order:\n",
        "if size == 'S':\n",
        "    bill = 15\n",
        "    if add_pepperoni == 'Y':\n",
        "        bill += 2\n",
        "        if extra_cheese == 'Y':\n",
        "            bill += 1\n",
        "            print(f'Your final bill is ${bill}.')\n",
        "        else:\n",
        "            print(f'Your final bill is ${bill}.')\n",
        "    elif extra_cheese == 'Y':\n",
        "        bill += 1\n",
        "        print(f'Your final bill is ${bill}.')\n",
        "    else:\n",
        "        print(f'Your final bill is ${bill}.')\n",
        "elif size == 'M':\n",
        "    bill = 20\n",
        "    if add_pepperoni == 'Y':\n",
        "        bill += 3\n",
        "        if extra_cheese == 'Y':\n",
        "            bill += 1\n",
        "            print(f'Your final bill is ${bill}.')\n",
        "        else:\n",
        "            print(f'Your final bill is ${bill}.')\n",
        "    elif extra_cheese == 'Y':\n",
        "        bill += 1\n",
        "        print(f'Your final bill is ${bill}.')\n",
        "    else:\n",
        "        print(f'Your final bill is ${bill}.')\n",
        "\n",
        "elif size == 'L':\n",
        "    bill = 25\n",
        "    if add_pepperoni == 'Y':\n",
        "        bill += 3\n",
        "        if extra_cheese == 'Y':\n",
        "            bill += 1\n",
        "            print(f'Your final bill is ${bill}.')\n",
        "        else:\n",
        "            print(f'Your final bill is ${bill}.')\n",
        "    elif extra_cheese == 'Y':\n",
        "        bill += 1\n",
        "        print(f'Your final bill is ${bill}.')\n",
        "    else:\n",
        "        print(f'Your final bill is ${bill}.')"
      ],
      "metadata": {
        "id": "sR2wRFzUvg_m"
      },
      "execution_count": null,
      "outputs": []
    }
  ]
}
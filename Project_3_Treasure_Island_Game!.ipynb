{
  "nbformat": 4,
  "nbformat_minor": 0,
  "metadata": {
    "colab": {
      "provenance": [],
      "authorship_tag": "ABX9TyMvxY2xGtzy1R2CCEsaQvrI",
      "include_colab_link": true
    },
    "kernelspec": {
      "name": "python3",
      "display_name": "Python 3"
    },
    "language_info": {
      "name": "python"
    }
  },
  "cells": [
    {
      "cell_type": "markdown",
      "metadata": {
        "id": "view-in-github",
        "colab_type": "text"
      },
      "source": [
        "<a href=\"https://colab.research.google.com/github/ijezykowa/Python-Challange-100-Days-of-coding/blob/main/Project_3_Treasure_Island_Game!.ipynb\" target=\"_parent\"><img src=\"https://colab.research.google.com/assets/colab-badge.svg\" alt=\"Open In Colab\"/></a>"
      ]
    },
    {
      "cell_type": "markdown",
      "source": [
        "#Treasure Island Game - simple game using if statements in order to follow one of the scenarios and try to find a treasure!"
      ],
      "metadata": {
        "id": "NNsXWTTeAWWp"
      }
    },
    {
      "cell_type": "markdown",
      "source": [
        "##Treasure Island:"
      ],
      "metadata": {
        "id": "YfTPB9FoAeKX"
      }
    },
    {
      "cell_type": "code",
      "execution_count": null,
      "metadata": {
        "colab": {
          "base_uri": "https://localhost:8080/"
        },
        "id": "eIrkZn7MAMYj",
        "outputId": "6318a6e1-282d-4a44-9f8f-8a015c6b7940"
      },
      "outputs": [
        {
          "output_type": "stream",
          "name": "stdout",
          "text": [
            "\n",
            "*******************************************************************************\n",
            "          |                   |                  |                     |\n",
            " _________|________________.=\"\"_;=.______________|_____________________|_______\n",
            "|                   |  ,-\"_,=\"\"     `\"=.|                  |\n",
            "|___________________|__\"=._o`\"-._        `\"=.______________|___________________\n",
            "          |                `\"=._o`\"=._      _`\"=._                     |\n",
            " _________|_____________________:=._o \"=._.\"_.-=\"'\"=.__________________|_______\n",
            "|                   |    __.--\" , ; `\"=._o.\" ,-\"\"\"-._ \".   |\n",
            "|___________________|_._\"  ,. .` ` `` ,  `\"-._\"-._   \". '__|___________________\n",
            "          |           |o`\"=._` , \"` `; .\". ,  \"-._\"-._; ;              |\n",
            " _________|___________| ;`-.o`\"=._; .\" ` '`.\"\\` . \"-._ /_______________|_______\n",
            "|                   | |o;    `\"-.o`\"=._``  '` \" ,__.--o;   |\n",
            "|___________________|_| ;     (#) `-.o `\"=.`_.--\"_o.-; ;___|___________________\n",
            "____/______/______/___|o;._    \"      `\".o|o_.--\"    ;o;____/______/______/____\n",
            "/______/______/______/_\"=._o--._        ; | ;        ; ;/______/______/______/_\n",
            "____/______/______/______/__\"=._o--._   ;o|o;     _._;o;____/______/______/____\n",
            "/______/______/______/______/____\"=._o._; | ;_.--\"o.--\"_/______/______/______/_\n",
            "____/______/______/______/______/_____\"=.o|o_.--\"\"___/______/______/______/____\n",
            "/______/______/______/______/______/______/______/______/______/______/_____ /\n",
            "*******************************************************************************\n",
            "\n",
            "*****Welcome to Treasure Island.*****\n",
            "\n",
            "Your mission is to find the hidden treasure.\n",
            "\n"
          ]
        }
      ],
      "source": [
        "print('''\n",
        "*******************************************************************************\n",
        "          |                   |                  |                     |\n",
        " _________|________________.=\"\"_;=.______________|_____________________|_______\n",
        "|                   |  ,-\"_,=\"\"     `\"=.|                  |\n",
        "|___________________|__\"=._o`\"-._        `\"=.______________|___________________\n",
        "          |                `\"=._o`\"=._      _`\"=._                     |\n",
        " _________|_____________________:=._o \"=._.\"_.-=\"'\"=.__________________|_______\n",
        "|                   |    __.--\" , ; `\"=._o.\" ,-\"\"\"-._ \".   |\n",
        "|___________________|_._\"  ,. .` ` `` ,  `\"-._\"-._   \". '__|___________________\n",
        "          |           |o`\"=._` , \"` `; .\". ,  \"-._\"-._; ;              |\n",
        " _________|___________| ;`-.o`\"=._; .\" ` '`.\"\\` . \"-._ /_______________|_______\n",
        "|                   | |o;    `\"-.o`\"=._``  '` \" ,__.--o;   |\n",
        "|___________________|_| ;     (#) `-.o `\"=.`_.--\"_o.-; ;___|___________________\n",
        "____/______/______/___|o;._    \"      `\".o|o_.--\"    ;o;____/______/______/____\n",
        "/______/______/______/_\"=._o--._        ; | ;        ; ;/______/______/______/_\n",
        "____/______/______/______/__\"=._o--._   ;o|o;     _._;o;____/______/______/____\n",
        "/______/______/______/______/____\"=._o._; | ;_.--\"o.--\"_/______/______/______/_\n",
        "____/______/______/______/______/_____\"=.o|o_.--\"\"___/______/______/______/____\n",
        "/______/______/______/______/______/______/______/______/______/______/_____ /\n",
        "*******************************************************************************\n",
        "''')\n",
        "print(\"*****Welcome to Treasure Island.*****\\n\")\n",
        "\n",
        "print(\"Your mission is to find the hidden treasure.\\n\") \n",
        "\n",
        "\n",
        "#1. Step: which way?\n",
        "way = input('Which way do you want to go? Left or Right?\\nPlease type the appropriate letter \"L\" or \"R\".')\n",
        "\n",
        "if way == 'L':\n",
        "  action = input('You reached a little house near to the river, what do you do: knock or swim?\\nPlease type the appropriate letter \"K\" or \"S\".')\n",
        "  if action == 'S':\n",
        "    step = input('You reached a hidden cave! Now you need to decide which way to go.\\nPlease choose the appropriate letter: \"L\" for left, \"R\" for right or \"S\" for straight.')\n",
        "    if step == \"R\":\n",
        "      chest = input('You found the final chamber with 3 treasure chests!\\nWhich one do you want to open?\\nPlease choose the right colour: \"B\" for blue, \"R\" for red and \"G\" for green.')\n",
        "      if chest == \"B\":\n",
        "          print('You chose the right chest! You found a great treasure. YOU WON!')\n",
        "      elif chest == \"R\":\n",
        "          print('You found an empty bottle. It looks like someone used to drink Rum here! You lost. GAME OVER')\n",
        "      else:\n",
        "          print('You found a chest full of snakes, you will not survive it. GAME OVER!')\n",
        "    elif step == \"L\":\n",
        "      print('You have been trapped in a cage! GAME OVER!')\n",
        "    else:\n",
        "      print('You have been eaten by a huge beast! GAME OVER!')\n",
        "        \n",
        "    \n",
        "  else:\n",
        "    print('You are stuck with a grandma listening to her stories. GAME OVER!')\n",
        "else:\n",
        "  print('You fell into a hole. GAME OVER!')\n",
        "\n",
        "\n"
      ]
    }
  ]
}
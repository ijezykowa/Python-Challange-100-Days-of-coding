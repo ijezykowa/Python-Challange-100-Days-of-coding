{
  "nbformat": 4,
  "nbformat_minor": 0,
  "metadata": {
    "colab": {
      "provenance": [],
      "authorship_tag": "ABX9TyOLi0Nx4I4ghquxIcOiGx5+",
      "include_colab_link": true
    },
    "kernelspec": {
      "name": "python3",
      "display_name": "Python 3"
    },
    "language_info": {
      "name": "python"
    }
  },
  "cells": [
    {
      "cell_type": "markdown",
      "metadata": {
        "id": "view-in-github",
        "colab_type": "text"
      },
      "source": [
        "<a href=\"https://colab.research.google.com/github/ijezykowa/Python-Challange-100-Days-of-coding/blob/main/Project_1_Band_Name_Generator.ipynb\" target=\"_parent\"><img src=\"https://colab.research.google.com/assets/colab-badge.svg\" alt=\"Open In Colab\"/></a>"
      ]
    },
    {
      "cell_type": "markdown",
      "source": [
        "#Band Name Generator: a simple project using basic print and input functions to create a band name"
      ],
      "metadata": {
        "id": "p7KPWxhe8d9O"
      }
    },
    {
      "cell_type": "markdown",
      "source": [
        "##1.Greeting (print function):"
      ],
      "metadata": {
        "id": "EtkI6Tvm8rhj"
      }
    },
    {
      "cell_type": "code",
      "execution_count": 2,
      "metadata": {
        "colab": {
          "base_uri": "https://localhost:8080/"
        },
        "id": "41jaxafv8Z3m",
        "outputId": "0fcb7d1b-ea60-4e5a-d39d-6e516f81853e"
      },
      "outputs": [
        {
          "output_type": "stream",
          "name": "stdout",
          "text": [
            "Hello Music Admirers! Welcome to the Band Name Generator!\n",
            "\n"
          ]
        }
      ],
      "source": [
        "#1. Create a greeting for your program.\n",
        "print('Hello Music Admirers! Welcome to the Band Name Generator!\\n')"
      ]
    },
    {
      "cell_type": "markdown",
      "source": [
        "##2.Town name (input function): "
      ],
      "metadata": {
        "id": "CPAMLIWc8w8D"
      }
    },
    {
      "cell_type": "code",
      "source": [
        "#2. Ask the user for the city that they grew up in.\n",
        "town_name = input('What is the name of the town you grew up in?\\n')"
      ],
      "metadata": {
        "colab": {
          "base_uri": "https://localhost:8080/"
        },
        "id": "4Pd9pc5e8xLD",
        "outputId": "07b2eef3-ac32-4f1b-e54f-f48f45b3a36a"
      },
      "execution_count": 3,
      "outputs": [
        {
          "name": "stdout",
          "output_type": "stream",
          "text": [
            "What is the name of the town you grew up in?\n",
            "London\n"
          ]
        }
      ]
    },
    {
      "cell_type": "markdown",
      "source": [
        "##3.Pet name (input function):"
      ],
      "metadata": {
        "id": "QkifnqGU89wc"
      }
    },
    {
      "cell_type": "code",
      "source": [
        "#3. Ask the user for the name of a pet.\n",
        "pet_name = input('What is the name of your pet?\\n')"
      ],
      "metadata": {
        "colab": {
          "base_uri": "https://localhost:8080/"
        },
        "id": "ZMSyHIWL9CG0",
        "outputId": "6b35d53f-6b51-4d7d-8aca-8109e5505710"
      },
      "execution_count": 4,
      "outputs": [
        {
          "name": "stdout",
          "output_type": "stream",
          "text": [
            "What is the name of your pet?\n",
            "Lucky\n"
          ]
        }
      ]
    },
    {
      "cell_type": "markdown",
      "source": [
        "##4.Band Name proposition:"
      ],
      "metadata": {
        "id": "bnCEfHvL9EEj"
      }
    },
    {
      "cell_type": "code",
      "source": [
        "#4. Combine the name of their city and pet and show them their band name.\n",
        "print('The proposition of your Band Name is: ' + town_name + ' ' + pet_name)"
      ],
      "metadata": {
        "colab": {
          "base_uri": "https://localhost:8080/"
        },
        "id": "UYv6DMUA9KZW",
        "outputId": "0f5f6009-6a0a-45b1-b443-e53f00d8846c"
      },
      "execution_count": 5,
      "outputs": [
        {
          "output_type": "stream",
          "name": "stdout",
          "text": [
            "The proposition of your Band Name is: London Lucky\n"
          ]
        }
      ]
    }
  ]
}
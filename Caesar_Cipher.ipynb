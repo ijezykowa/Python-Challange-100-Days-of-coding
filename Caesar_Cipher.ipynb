{
  "nbformat": 4,
  "nbformat_minor": 0,
  "metadata": {
    "colab": {
      "provenance": [],
      "authorship_tag": "ABX9TyNdqd/eoRA7mI4kmqR7/BVs",
      "include_colab_link": true
    },
    "kernelspec": {
      "name": "python3",
      "display_name": "Python 3"
    },
    "language_info": {
      "name": "python"
    }
  },
  "cells": [
    {
      "cell_type": "markdown",
      "metadata": {
        "id": "view-in-github",
        "colab_type": "text"
      },
      "source": [
        "<a href=\"https://colab.research.google.com/github/ijezykowa/Python-Challange-100-Days-of-coding/blob/main/Caesar_Cipher.ipynb\" target=\"_parent\"><img src=\"https://colab.research.google.com/assets/colab-badge.svg\" alt=\"Open In Colab\"/></a>"
      ]
    },
    {
      "cell_type": "markdown",
      "source": [
        "# Ceasar Cipher Basis"
      ],
      "metadata": {
        "id": "SRUTpk9UFijs"
      }
    },
    {
      "cell_type": "code",
      "execution_count": 1,
      "metadata": {
        "id": "HnxnTxk6yA25"
      },
      "outputs": [],
      "source": [
        "alphabet = ['a', 'b', 'c', 'd', 'e', 'f', 'g', 'h', 'i', 'j', 'k', 'l', 'm', 'n', 'o', 'p', 'q', 'r', 's', 't', 'u', 'v', 'w', 'x', 'y', 'z', 'a', 'b', 'c', 'd', 'e', 'f', 'g', 'h', 'i', 'j', 'k', 'l', 'm', 'n', 'o', 'p', 'q', 'r', 's', 't', 'u', 'v', 'w', 'x', 'y', 'z']"
      ]
    },
    {
      "cell_type": "code",
      "source": [
        "pip install art"
      ],
      "metadata": {
        "colab": {
          "base_uri": "https://localhost:8080/"
        },
        "id": "6ZJ91bUmIarX",
        "outputId": "6621d1ec-727f-4735-b44f-825a3d80f1fe"
      },
      "execution_count": 11,
      "outputs": [
        {
          "output_type": "stream",
          "name": "stdout",
          "text": [
            "Collecting art\n",
            "  Downloading art-6.0-py3-none-any.whl (599 kB)\n",
            "\u001b[2K     \u001b[90m━━━━━━━━━━━━━━━━━━━━━━━━━━━━━━━━━━━━━━━\u001b[0m \u001b[32m599.4/599.4 kB\u001b[0m \u001b[31m6.0 MB/s\u001b[0m eta \u001b[36m0:00:00\u001b[0m\n",
            "\u001b[?25hInstalling collected packages: art\n",
            "Successfully installed art-6.0\n"
          ]
        }
      ]
    },
    {
      "cell_type": "markdown",
      "source": [
        "###Basis for encoding (raw version)"
      ],
      "metadata": {
        "id": "brJu4QYCJvbF"
      }
    },
    {
      "cell_type": "code",
      "source": [
        "direction = input(\"'encode' for encrypting, 'decode' for decrypting:\\n\")\n",
        "text = input(\"Type your message:\\n\").lower()\n",
        "step = int(input(\"Type the step number:\\n\"))"
      ],
      "metadata": {
        "colab": {
          "base_uri": "https://localhost:8080/"
        },
        "id": "8l_IKKLEFsmj",
        "outputId": "eff2efe2-6419-4e49-980b-b6f588045600"
      },
      "execution_count": 14,
      "outputs": [
        {
          "name": "stdout",
          "output_type": "stream",
          "text": [
            "'encode' for encrypting, 'decode' for decrypting:\n",
            "encode\n",
            "Type your message:\n",
            "only\n",
            "Type the step number:\n",
            "2\n"
          ]
        }
      ]
    },
    {
      "cell_type": "markdown",
      "source": [
        "###Only Encoding - work notebook"
      ],
      "metadata": {
        "id": "ARSDTs6VG-8t"
      }
    },
    {
      "cell_type": "code",
      "source": [
        "def encrypt(plain_text, step_amount):\n",
        "  cipher_text = \"\"\n",
        "  for letter in plain_text:\n",
        "    position = alphabet.index(letter)\n",
        "    new_position = position + step_amount\n",
        "    new_letter = alphabet[new_position]\n",
        "    cipher_text += new_letter\n",
        "  print(f\"The encoded text is {cipher_text}\")\n",
        "\n",
        "encrypt(plain_text=text, step_amount=step)"
      ],
      "metadata": {
        "colab": {
          "base_uri": "https://localhost:8080/"
        },
        "id": "GDXraIs7HAhw",
        "outputId": "a33b64da-1fd3-4d4d-cff6-73914227118b"
      },
      "execution_count": 15,
      "outputs": [
        {
          "output_type": "stream",
          "name": "stdout",
          "text": [
            "The encoded text is qpna\n"
          ]
        }
      ]
    },
    {
      "cell_type": "markdown",
      "source": [
        "###Full Cipher/Decipher module:"
      ],
      "metadata": {
        "id": "ZhmxhmwiHgd-"
      }
    },
    {
      "cell_type": "code",
      "source": [
        "def caesar(start_text, step_amount, cipher_direction):\n",
        "  end_text = \"\"\n",
        "  if cipher_direction == \"decode\":\n",
        "    step_amount *= -1\n",
        "  for char in start_text:\n",
        "    if char in alphabet:\n",
        "      position = alphabet.index(char)\n",
        "      new_position = position + step_amount\n",
        "      end_text += alphabet[new_position]\n",
        "    else:\n",
        "      end_text += char\n",
        "  print(f\"Here's the {cipher_direction}d result: {end_text}\")\n",
        "\n",
        "#from art import logo\n",
        "#print(logo)\n",
        "\n",
        "should_end = False\n",
        "while not should_end:\n",
        "\n",
        "  direction = input(\"Type 'encode' to encrypt, type 'decode' to decrypt:\\n\")\n",
        "  text = input(\"Type your message:\\n\").lower()\n",
        "  step = int(input(\"Type the step number:\\n\"))\n",
        "\n",
        "  step = step % 26\n",
        "\n",
        "  caesar(start_text=text, step_amount=step, cipher_direction=direction)\n",
        "\n",
        "  restart = input(\"Type 'yes' if you want to go again. Otherwise type 'no'.\\n\")\n",
        "  if restart == \"no\":\n",
        "    should_end = True\n",
        "    print(\"Goodbye\")\n",
        "\n"
      ],
      "metadata": {
        "colab": {
          "base_uri": "https://localhost:8080/"
        },
        "id": "5INhQ2i4HiWm",
        "outputId": "e7b28f87-c9be-4e91-aaaa-f61de90abdf2"
      },
      "execution_count": 21,
      "outputs": [
        {
          "output_type": "stream",
          "name": "stdout",
          "text": [
            "Type 'encode' to encrypt, type 'decode' to decrypt:\n",
            "encode\n",
            "Type your message:\n",
            "motherfucker\n",
            "Type the step number:\n",
            "4\n",
            "Here's the encoded result: qsxlivjygoiv\n",
            "Type 'yes' if you want to go again. Otherwise type 'no'.\n",
            "yes\n",
            "Type 'encode' to encrypt, type 'decode' to decrypt:\n",
            "decode\n",
            "Type your message:\n",
            "qsxlivjygoiv\n",
            "Type the step number:\n",
            "4\n",
            "Here's the decoded result: motherfucker\n",
            "Type 'yes' if you want to go again. Otherwise type 'no'.\n",
            "no\n",
            "Goodbye\n"
          ]
        }
      ]
    }
  ]
}
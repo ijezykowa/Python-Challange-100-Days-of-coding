{
  "nbformat": 4,
  "nbformat_minor": 0,
  "metadata": {
    "colab": {
      "provenance": [],
      "authorship_tag": "ABX9TyNk2c6w5ZwZJX9nJMEVM6kB",
      "include_colab_link": true
    },
    "kernelspec": {
      "name": "python3",
      "display_name": "Python 3"
    },
    "language_info": {
      "name": "python"
    }
  },
  "cells": [
    {
      "cell_type": "markdown",
      "metadata": {
        "id": "view-in-github",
        "colab_type": "text"
      },
      "source": [
        "<a href=\"https://colab.research.google.com/github/ijezykowa/Python-Challange-100-Days-of-coding/blob/main/_Project_Love_Calculator.ipynb\" target=\"_parent\"><img src=\"https://colab.research.google.com/assets/colab-badge.svg\" alt=\"Open In Colab\"/></a>"
      ]
    },
    {
      "cell_type": "markdown",
      "source": [
        "#Love Calculator: a project basing on simple mathematical functions and if statements + logical operators"
      ],
      "metadata": {
        "id": "4GBHQ42e3Q8n"
      }
    },
    {
      "cell_type": "markdown",
      "source": [
        "##1.Introduction (input):"
      ],
      "metadata": {
        "id": "wCYSmUha3gjG"
      }
    },
    {
      "cell_type": "code",
      "execution_count": null,
      "metadata": {
        "id": "J7wjik4C3PjB"
      },
      "outputs": [],
      "source": [
        "#input to get names of the lovers\n",
        "print(\"Welcome to the Love Calculator!\")\n",
        "name1 = (input(\"What is your name? \\n\")).lower()\n",
        "name2 = (input(\"What is their name? \\n\")).lower()"
      ]
    },
    {
      "cell_type": "markdown",
      "source": [
        "##2.Letter calculations:"
      ],
      "metadata": {
        "id": "mxCISJ7q3qVM"
      }
    },
    {
      "cell_type": "code",
      "source": [
        "#actions needed to calculate amount of simple letter occuring in the names\n",
        "t = name1.count('t') + name2.count('t')\n",
        "r = name1.count('r') + name2.count('r')\n",
        "u = name1.count('u') + name2.count('u')\n",
        "e1 = name1.count('e') + name2.count('e')\n",
        "result_true = t + r + u + e1\n",
        "result_true_str = str(result_true)\n",
        "#print(type(result_true_str))\n",
        "\n",
        "l = name1.count('l') + name2.count('l')\n",
        "o = name1.count('o') + name2.count('o')\n",
        "v = name1.count('v') + name2.count('v')\n",
        "e2 = e1\n",
        "result_love = l + o + v + e2\n",
        "result_love_str = str(result_love)\n",
        "#print(type(result_love_str))\n",
        "\n",
        "final_result = result_true_str + result_love_str\n",
        "score = int(final_result)\n",
        "#print(type(score))  "
      ],
      "metadata": {
        "id": "03K3MTS13qeK"
      },
      "execution_count": null,
      "outputs": []
    },
    {
      "cell_type": "markdown",
      "source": [
        "##3.Result (if statements):"
      ],
      "metadata": {
        "id": "JTt6Uk9n33qE"
      }
    },
    {
      "cell_type": "code",
      "source": [
        "#if statements and logical operators used to verify the final result\n",
        "if score < 10 or score > 90:\n",
        "    print(f'Your score is {score}, you go together like coke and mentos.')\n",
        "elif score > 40 and score < 50:\n",
        "    print(f'Your score is {score}, you are alright together.')\n",
        "else:\n",
        "    print(f'Your score is {score}.')  "
      ],
      "metadata": {
        "id": "90dRmuOI33yH"
      },
      "execution_count": null,
      "outputs": []
    }
  ]
}
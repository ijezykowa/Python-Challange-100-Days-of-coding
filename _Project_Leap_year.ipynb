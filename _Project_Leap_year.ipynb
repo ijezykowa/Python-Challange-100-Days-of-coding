{
  "nbformat": 4,
  "nbformat_minor": 0,
  "metadata": {
    "colab": {
      "provenance": [],
      "authorship_tag": "ABX9TyMRJ5IMXiWJZVR5cILzSL91",
      "include_colab_link": true
    },
    "kernelspec": {
      "name": "python3",
      "display_name": "Python 3"
    },
    "language_info": {
      "name": "python"
    }
  },
  "cells": [
    {
      "cell_type": "markdown",
      "metadata": {
        "id": "view-in-github",
        "colab_type": "text"
      },
      "source": [
        "<a href=\"https://colab.research.google.com/github/ijezykowa/Python-Challange-100-Days-of-coding/blob/main/_Project_Leap_year.ipynb\" target=\"_parent\"><img src=\"https://colab.research.google.com/assets/colab-badge.svg\" alt=\"Open In Colab\"/></a>"
      ]
    },
    {
      "cell_type": "markdown",
      "source": [
        "#Leap year analyzer: a simple project using basic if statements in order to verify if the year is a leap year or not."
      ],
      "metadata": {
        "id": "oCAYlnKJbyCg"
      }
    },
    {
      "cell_type": "markdown",
      "source": [
        "#1.Introduction (input function):"
      ],
      "metadata": {
        "id": "P2FZDYA2cIIh"
      }
    },
    {
      "cell_type": "code",
      "execution_count": null,
      "metadata": {
        "id": "cU_yLPOybuaK"
      },
      "outputs": [],
      "source": [
        "#input function to get the year to verify:\n",
        "year = int(input(\"Which year do you want to check? \"))"
      ]
    },
    {
      "cell_type": "markdown",
      "source": [
        "#2.Calculations (modulo):"
      ],
      "metadata": {
        "id": "ZIsWDH6DcaVS"
      }
    },
    {
      "cell_type": "code",
      "source": [
        "#3 simple mathematical functions using modulo in order to verify the conditions:\n",
        "check_1 = round(year % 4)\n",
        "check_2 = round(year % 100)\n",
        "check_3 = round(year % 400)"
      ],
      "metadata": {
        "id": "vk1B1GTocaME"
      },
      "execution_count": null,
      "outputs": []
    },
    {
      "cell_type": "markdown",
      "source": [
        "#3.If statements and year verification:"
      ],
      "metadata": {
        "id": "gia0JELHcnL5"
      }
    },
    {
      "cell_type": "code",
      "source": [
        "#Verification if the year is leap or not using if statemets:\n",
        "if check_1 == 0:\n",
        "    #print('Leap year.')\n",
        "    if check_3 == 0:\n",
        "        print('Leap year.')\n",
        "    else:\n",
        "        #print('Not leap year.')\n",
        "        if check_2 != 0:\n",
        "            print('Leap year.')\n",
        "        else:\n",
        "            print('Not leap year.')    \n",
        "else:\n",
        "    print('Not leap year.')"
      ],
      "metadata": {
        "id": "njz1Px_PcnUY"
      },
      "execution_count": null,
      "outputs": []
    }
  ]
}